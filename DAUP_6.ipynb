{
  "nbformat": 4,
  "nbformat_minor": 0,
  "metadata": {
    "colab": {
      "provenance": []
    },
    "kernelspec": {
      "name": "python3",
      "display_name": "Python 3"
    },
    "language_info": {
      "name": "python"
    }
  },
  "cells": [
    {
      "cell_type": "code",
      "source": [
        "import pandas as pd\n",
        "!pip install pandas\n",
        "try:\n",
        "  df = pd.read_csv('supermarket.csv')\n",
        "  print(\"Dataset loaded successfully.\")\n",
        "  print(df.head())\n",
        "except FileNotFoundError:\n",
        "  print(\"Error: 'your_file.csv' not found. Please provide the correct file path.\")\n",
        "except pd.errors.ParserError:\n",
        "  print(\"Error: Unable to parse the CSV file. Please check the file format.\")\n",
        "except Exception as e:\n",
        "  print(f\"An unexpected error occurred: {e}\")\n"
      ],
      "metadata": {
        "colab": {
          "base_uri": "https://localhost:8080/"
        },
        "id": "1-ZRMEm40gs8",
        "outputId": "7ab4c989-1da1-483d-e5cf-d0562dde297f"
      },
      "execution_count": 15,
      "outputs": [
        {
          "output_type": "stream",
          "name": "stdout",
          "text": [
            "Requirement already satisfied: pandas in /usr/local/lib/python3.11/dist-packages (2.2.2)\n",
            "Requirement already satisfied: numpy>=1.23.2 in /usr/local/lib/python3.11/dist-packages (from pandas) (1.26.4)\n",
            "Requirement already satisfied: python-dateutil>=2.8.2 in /usr/local/lib/python3.11/dist-packages (from pandas) (2.8.2)\n",
            "Requirement already satisfied: pytz>=2020.1 in /usr/local/lib/python3.11/dist-packages (from pandas) (2025.1)\n",
            "Requirement already satisfied: tzdata>=2022.7 in /usr/local/lib/python3.11/dist-packages (from pandas) (2025.1)\n",
            "Requirement already satisfied: six>=1.5 in /usr/local/lib/python3.11/dist-packages (from python-dateutil>=2.8.2->pandas) (1.17.0)\n",
            "Dataset loaded successfully.\n",
            "    Invoice ID Branch       City Customer type  Gender  \\\n",
            "0  750-67-8428      A     Yangon        Member  Female   \n",
            "1  226-31-3081      C  Naypyitaw        Normal  Female   \n",
            "2  631-41-3108      A     Yangon        Normal    Male   \n",
            "3  123-19-1176      A     Yangon        Member    Male   \n",
            "4  373-73-7910      A     Yangon        Normal    Male   \n",
            "\n",
            "             Product line  Unit price  Quantity   Tax 5%     Total       Date  \\\n",
            "0       Health and beauty       74.69         7  26.1415  548.9715   1/5/2019   \n",
            "1  Electronic accessories       15.28         5   3.8200   80.2200   3/8/2019   \n",
            "2      Home and lifestyle       46.33         7  16.2155  340.5255   3/3/2019   \n",
            "3       Health and beauty       58.22         8  23.2880  489.0480  1/27/2019   \n",
            "4       Sports and travel       86.31         7  30.2085  634.3785   2/8/2019   \n",
            "\n",
            "    Time      Payment    cogs  gross margin percentage  gross income  Rating  \n",
            "0  13:08      Ewallet  522.83                 4.761905       26.1415     9.1  \n",
            "1  10:29         Cash   76.40                 4.761905        3.8200     9.6  \n",
            "2  13:23  Credit card  324.31                 4.761905       16.2155     7.4  \n",
            "3  20:33      Ewallet  465.76                 4.761905       23.2880     8.4  \n",
            "4  10:37      Ewallet  604.17                 4.761905       30.2085     5.3  \n"
          ]
        }
      ]
    },
    {
      "cell_type": "code",
      "source": [
        "def event_a(row):\n",
        "  \"\"\"Checks if the transaction was made by a Member customer.\"\"\"\n",
        "  return row['Customer type'] == 'Member'\n",
        "\n",
        "def event_b(row):\n",
        "  \"\"\"Checks if the transaction was made using Credit Card payment.\"\"\"\n",
        "  return row['Payment'] == 'Credit card'\n",
        "try:\n",
        "  df['Event A'] = df.apply(event_a, axis=1)\n",
        "  df['Event B'] = df.apply(event_b, axis=1)\n",
        "  print(\"Events defined and added as new columns to the DataFrame.\")\n",
        "  print(df.head())\n",
        "except KeyError as e:\n",
        "  print(f\"Error: Column '{e}' not found in the DataFrame. Please check the column names in your dataset.\")\n",
        "except Exception as e:\n",
        "  print(f\"An unexpected error occurred: {e}\")\n"
      ],
      "metadata": {
        "colab": {
          "base_uri": "https://localhost:8080/"
        },
        "id": "FVgvU9Q60p1u",
        "outputId": "58e982db-87f1-4108-9a3a-c0eb167a5aad"
      },
      "execution_count": 16,
      "outputs": [
        {
          "output_type": "stream",
          "name": "stdout",
          "text": [
            "Events defined and added as new columns to the DataFrame.\n",
            "    Invoice ID Branch       City Customer type  Gender  \\\n",
            "0  750-67-8428      A     Yangon        Member  Female   \n",
            "1  226-31-3081      C  Naypyitaw        Normal  Female   \n",
            "2  631-41-3108      A     Yangon        Normal    Male   \n",
            "3  123-19-1176      A     Yangon        Member    Male   \n",
            "4  373-73-7910      A     Yangon        Normal    Male   \n",
            "\n",
            "             Product line  Unit price  Quantity   Tax 5%     Total       Date  \\\n",
            "0       Health and beauty       74.69         7  26.1415  548.9715   1/5/2019   \n",
            "1  Electronic accessories       15.28         5   3.8200   80.2200   3/8/2019   \n",
            "2      Home and lifestyle       46.33         7  16.2155  340.5255   3/3/2019   \n",
            "3       Health and beauty       58.22         8  23.2880  489.0480  1/27/2019   \n",
            "4       Sports and travel       86.31         7  30.2085  634.3785   2/8/2019   \n",
            "\n",
            "    Time      Payment    cogs  gross margin percentage  gross income  Rating  \\\n",
            "0  13:08      Ewallet  522.83                 4.761905       26.1415     9.1   \n",
            "1  10:29         Cash   76.40                 4.761905        3.8200     9.6   \n",
            "2  13:23  Credit card  324.31                 4.761905       16.2155     7.4   \n",
            "3  20:33      Ewallet  465.76                 4.761905       23.2880     8.4   \n",
            "4  10:37      Ewallet  604.17                 4.761905       30.2085     5.3   \n",
            "\n",
            "   Event A  Event B  \n",
            "0     True    False  \n",
            "1    False    False  \n",
            "2    False     True  \n",
            "3     True    False  \n",
            "4    False    False  \n"
          ]
        }
      ]
    },
    {
      "cell_type": "code",
      "source": [
        "total_transactions = len(df)\n",
        "event_a_count = df['Event A'].sum()\n",
        "event_b_count = df['Event B'].sum()\n",
        "event_a_and_b_count = len(df[(df['Event A'] == True) & (df['Event B'] == True)])\n",
        "\n",
        "p_a = event_a_count / total_transactions\n",
        "p_b = event_b_count / total_transactions\n",
        "p_a_intersect_b = event_a_and_b_count / total_transactions\n",
        "p_a_union_b = p_a + p_b - p_a_intersect_b\n",
        "\n",
        "if p_b > 0:\n",
        "  p_a_given_b = p_a_intersect_b / p_b\n",
        "else:\n",
        "  p_a_given_b = 0\n",
        "print(f\"P(A): {p_a}\")\n",
        "print(f\"P(B): {p_b}\")\n",
        "print(f\"P(A ∩ B): {p_a_intersect_b}\")\n",
        "print(f\"P(A ∪ B): {p_a_union_b}\")\n",
        "print(f\"P(A | B): {p_a_given_b}\")\n"
      ],
      "metadata": {
        "colab": {
          "base_uri": "https://localhost:8080/"
        },
        "id": "w_YPr-290w7Q",
        "outputId": "fd38657f-a502-4f40-8ce8-2ae9f351fbfd"
      },
      "execution_count": 17,
      "outputs": [
        {
          "output_type": "stream",
          "name": "stdout",
          "text": [
            "P(A): 0.501\n",
            "P(B): 0.311\n",
            "P(A ∩ B): 0.172\n",
            "P(A ∪ B): 0.6400000000000001\n",
            "P(A | B): 0.5530546623794211\n"
          ]
        }
      ]
    },
    {
      "cell_type": "code",
      "source": [
        "try:\n",
        "  health_beauty_count = len(df[df['Product line'] == 'Health and beauty'])\n",
        "  total_transactions = len(df)\n",
        "  probability = health_beauty_count / total_transactions\n",
        "  print(f\"The probability that a randomly chosen transaction belongs to the Health & Beauty product line is: {probability}\")\n",
        "except KeyError:\n",
        "  print(\"Error: 'Product line' column not found in the DataFrame. Please check the column names in your dataset.\")\n",
        "except Exception as e:\n",
        "  print(f\"An unexpected error occurred: {e}\")\n"
      ],
      "metadata": {
        "colab": {
          "base_uri": "https://localhost:8080/"
        },
        "id": "2bClbb2k02IW",
        "outputId": "dc6c6585-a67c-4c00-c6d9-0ac98986bf19"
      },
      "execution_count": 18,
      "outputs": [
        {
          "output_type": "stream",
          "name": "stdout",
          "text": [
            "The probability that a randomly chosen transaction belongs to the Health & Beauty product line is: 0.152\n"
          ]
        }
      ]
    },
    {
      "cell_type": "code",
      "source": [
        "def event_ewallet(row):\n",
        "    return row['Payment'] == 'Ewallet'\n",
        "\n",
        "def event_more_than_5_items(row):\n",
        "    return row['Quantity'] > 5\n",
        "df['Ewallet'] = df.apply(event_ewallet, axis=1)\n",
        "df['MoreThan5Items'] = df.apply(event_more_than_5_items, axis=1)\n",
        "ewallet_customers = df[df['Ewallet'] == True]\n",
        "favorable_outcomes = len(ewallet_customers[ewallet_customers['MoreThan5Items'] == True])\n",
        "total_ewallet_customers = len(ewallet_customers)\n",
        "\n",
        "if total_ewallet_customers > 0:\n",
        "    probability = favorable_outcomes / total_ewallet_customers\n",
        "    print(f\"The probability that a customer who used Ewallet purchased more than 5 items is: {probability}\")\n",
        "else:\n",
        "    print(\"No customers used Ewallet in the dataset.\")\n"
      ],
      "metadata": {
        "colab": {
          "base_uri": "https://localhost:8080/"
        },
        "id": "T8AVTaWi060k",
        "outputId": "6561360d-0284-4a8f-8127-3d28835b3235"
      },
      "execution_count": 19,
      "outputs": [
        {
          "output_type": "stream",
          "name": "stdout",
          "text": [
            "The probability that a customer who used Ewallet purchased more than 5 items is: 0.48695652173913045\n"
          ]
        }
      ]
    },
    {
      "cell_type": "code",
      "source": [
        "try:\n",
        "    yangon_transactions = df[df['City'] == 'Yangon']\n",
        "    cash_transactions_yangon = yangon_transactions[yangon_transactions['Payment'] == 'Cash']\n",
        "    probability_cash_yangon = len(cash_transactions_yangon) / len(yangon_transactions)\n",
        "    print(f\"Probability of Cash payment in Yangon: {probability_cash_yangon}\")\n",
        "except KeyError as e:\n",
        "    print(f\"Error: Column '{e}' not found. Please check your dataset.\")\n",
        "try:\n",
        "    member_high_rating = df[(df['Customer type'] == 'Member') & (df['Rating'] > 8)]\n",
        "    probability_member_high_rating = len(member_high_rating) / len(df)\n",
        "    print(f\"Probability of Member with rating > 8: {probability_member_high_rating}\")\n",
        "except KeyError as e:\n",
        "    print(f\"Error: Column '{e}' not found. Please check your dataset.\")\n"
      ],
      "metadata": {
        "colab": {
          "base_uri": "https://localhost:8080/"
        },
        "id": "uOv-7ijs0_L2",
        "outputId": "e15bdf54-fc5e-4765-97bb-38f82917e944"
      },
      "execution_count": 20,
      "outputs": [
        {
          "output_type": "stream",
          "name": "stdout",
          "text": [
            "Probability of Cash payment in Yangon: 0.3235294117647059\n",
            "Probability of Member with rating > 8: 0.157\n"
          ]
        }
      ]
    },
    {
      "cell_type": "code",
      "source": [
        "import math\n",
        "\n",
        "def factorial(n):\n",
        "  \"\"\"Computes the factorial of a non-negative integer.\"\"\"\n",
        "  if n < 0:\n",
        "    raise ValueError(\"Factorial is not defined for negative numbers.\")\n",
        "  elif n == 0:\n",
        "    return 1\n",
        "  else:\n",
        "    return math.factorial(n)\n",
        "\n",
        "def permutations(n, r):\n",
        "  \"\"\"Computes the number of permutations of n items taken r at a time.\"\"\"\n",
        "  if n < 0 or r < 0 or r > n:\n",
        "      raise ValueError(\"Invalid input for permutations.\")\n",
        "  return factorial(n) // factorial(n - r)\n",
        "\n",
        "def combinations(n, r):\n",
        "  \"\"\"Computes the number of combinations of n items taken r at a time.\"\"\"\n",
        "  if n < 0 or r < 0 or r > n:\n",
        "      raise ValueError(\"Invalid input for combinations.\")\n",
        "  return factorial(n) // (factorial(r) * factorial(n - r))\n"
      ],
      "metadata": {
        "id": "892h_SCO1C6t"
      },
      "execution_count": 21,
      "outputs": []
    },
    {
      "cell_type": "code",
      "source": [
        "try:\n",
        "    unique_branches = df['Branch'].nunique()\n",
        "    branch_factorial = factorial(unique_branches)\n",
        "    print(f\"Factorial of the number of unique branches: {branch_factorial}\")\n",
        "except KeyError:\n",
        "    print(\"Error: 'Branch' column not found in the DataFrame. Please check the column names in your dataset.\")\n",
        "except Exception as e:\n",
        "    print(f\"An unexpected error occurred: {e}\")\n",
        "n = 20\n",
        "r = 5\n",
        "try:\n",
        "    permutation_result = permutations(n, r)\n",
        "    print(f\"Number of ways to arrange 5 transactions from 20: {permutation_result}\")\n",
        "except ValueError as e:\n",
        "    print(f\"Error in permutation calculation: {e}\")\n",
        "n = 6\n",
        "r = 3\n",
        "try:\n",
        "    combination_result = combinations(n,r)\n",
        "    print(f\"Number of ways to select 3 product lines from 6 categories: {combination_result}\")\n",
        "except ValueError as e:\n",
        "    print(f\"Error in combination calculation: {e}\")\n"
      ],
      "metadata": {
        "colab": {
          "base_uri": "https://localhost:8080/"
        },
        "id": "7j-jPY2_1HBo",
        "outputId": "4e82d37d-338b-413c-fb0c-f3badbcf65ec"
      },
      "execution_count": 22,
      "outputs": [
        {
          "output_type": "stream",
          "name": "stdout",
          "text": [
            "Factorial of the number of unique branches: 6\n",
            "Number of ways to arrange 5 transactions from 20: 1860480\n",
            "Number of ways to select 3 product lines from 6 categories: 20\n"
          ]
        }
      ]
    },
    {
      "cell_type": "code",
      "source": [
        "def combinations(n, r):\n",
        "  \"\"\"Computes the number of combinations of n items taken r at a time.\"\"\"\n",
        "  if n < 0 or r < 0 or r > n:\n",
        "      raise ValueError(\"Invalid input for combinations.\")\n",
        "  return math.factorial(n) // (math.factorial(r) * math.factorial(n - r))\n",
        "payment_methods = 3\n",
        "available_payment_types = 3\n",
        "ways_to_display = combinations(available_payment_types, payment_methods)\n",
        "\n",
        "print(f\"The number of ways to display {payment_methods} payment methods from {available_payment_types} types is: {ways_to_display}\")\n",
        "total_employees = 15\n",
        "employees_to_select = 5\n",
        "ways_to_select_employees = combinations(total_employees, employees_to_select)\n",
        "print(f\"The number of ways to select {employees_to_select} employees from {total_employees} is: {ways_to_select_employees}\")\n",
        "alphabet_size = 26\n",
        "invoice_code_length = 6\n",
        "ways_to_create_codes = pow(alphabet_size, invoice_code_length)\n",
        "print(f\"The number of ways to create unique invoice codes using {invoice_code_length} letters from the English alphabet is: {ways_to_create_codes}\")\n"
      ],
      "metadata": {
        "colab": {
          "base_uri": "https://localhost:8080/"
        },
        "id": "dyxgBeKV1Kpr",
        "outputId": "1a61da0f-615e-4686-88a6-162088a3b9f9"
      },
      "execution_count": 23,
      "outputs": [
        {
          "output_type": "stream",
          "name": "stdout",
          "text": [
            "The number of ways to display 3 payment methods from 3 types is: 1\n",
            "The number of ways to select 5 employees from 15 is: 3003\n",
            "The number of ways to create unique invoice codes using 6 letters from the English alphabet is: 308915776\n"
          ]
        }
      ]
    }
  ]
}